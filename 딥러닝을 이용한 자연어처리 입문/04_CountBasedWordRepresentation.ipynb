{
 "cells": [
  {
   "cell_type": "markdown",
   "metadata": {},
   "source": [
    "# Count Based Word Representation\n",
    "\n",
    "- 자연어 처리에서 텍스트를 표현하는 방법으로는 여러가지 방법이 있음\n",
    "\n",
    "- 정보 검색과 텍스트 마이닝 분야에서 주로 사용되는\n",
    "\n",
    "    - 카운트 기반의 텍스트 표현 방법인 DTM(Document Term Matrix)\n",
    "\n",
    "    - TF-IDF(Term Frequency-Inverse Document Frequency)\n",
    "\n",
    "- 텍스트를 위와 같은 방식으로 수치화를 하고 나면,\n",
    "\n",
    "- 어떤 단어가 특정 문서 내에서 얼마나 중요한 것인지를 나타내거나, 문서의 핵심어 추출, 검색 순위 결정, 문장들 간의 유사도를 구하는 등의 용도로 사용할 수 있음"
   ]
  },
  {
   "cell_type": "markdown",
   "metadata": {},
   "source": [
    "### 1. 다양한 단어의 표현 방법"
   ]
  },
  {
   "cell_type": "markdown",
   "metadata": {},
   "source": [
    "##### 1-1. 단어의 표현 방법"
   ]
  }
 ],
 "metadata": {
  "kernelspec": {
   "display_name": "LikeLion",
   "language": "python",
   "name": "python3"
  },
  "language_info": {
   "name": "python",
   "version": "3.11.5"
  }
 },
 "nbformat": 4,
 "nbformat_minor": 2
}
