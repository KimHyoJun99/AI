{
 "cells": [
  {
   "cell_type": "markdown",
   "metadata": {},
   "source": [
    "# Vector Similarity"
   ]
  },
  {
   "cell_type": "markdown",
   "metadata": {},
   "source": [
    "### 1. 코사인 유사도(Cosine Similarity)\n",
    "\n",
    "- BoW에 기반한 단어 표현 방법인 DTM, TF-IDF 또는 Word2Vec 등으로 단어를 수치화 했다면\n",
    "\n",
    "- 이러한 수치화에 대해 코사인 유사도를 적용하여 문서의 유사도를 구하는 게 가능함"
   ]
  },
  {
   "cell_type": "markdown",
   "metadata": {},
   "source": [
    "##### 1-1. 코사인 유사도\n",
    "\n",
    "- 코사인 유사도는 두 벡터 간의 코사인 각도를 이용하여 구할 수 있는 두 벡터의 유사도\n",
    "\n",
    "- 두 벡터의 방향이 완전히 동일한 경우 1의 값을, 90˚의 각을 이루면 0, 180˚로 반대의 방향을 가지면 -1의 값\n",
    "\n",
    "- 즉, 코사인 유사도는 -1 이상 1 이하의 값을 가지며 값이 1에 가까울수록 유사도가 높다고 판단"
   ]
  },
  {
   "cell_type": "code",
   "execution_count": 27,
   "metadata": {},
   "outputs": [
    {
     "name": "stdout",
     "output_type": "stream",
     "text": [
      "문서 1과 문서 2의 유사도:  0.6666666666666667\n",
      "문서 1과 문서 3의 유사도:  0.6666666666666667\n",
      "문서 2와 문서 3의 유사도:  1.0000000000000002\n"
     ]
    }
   ],
   "source": [
    "import numpy as np\n",
    "from numpy import dot\n",
    "from numpy.linalg import norm\n",
    "\n",
    "def cos_sim(A, B):\n",
    "    return dot(A, B) / (norm(A) * norm(B))\n",
    "\n",
    "doc1 = np.array([0, 1, 1, 1])  # 저는 사과 좋아요\n",
    "doc2 = np.array([1, 0, 1, 1])  # 저는 바나나 좋아요\n",
    "doc3 = np.array([2, 0, 2, 2])  # 저는 바나나 좋아요 저는 바나나 좋아요\n",
    "                               # 바나나  사과  저는  좋아요 matrix\n",
    "\n",
    "print('문서 1과 문서 2의 유사도: ', cos_sim(doc1, doc2))\n",
    "print('문서 1과 문서 3의 유사도: ', cos_sim(doc1, doc3))\n",
    "print('문서 2와 문서 3의 유사도: ', cos_sim(doc2, doc3))"
   ]
  },
  {
   "cell_type": "markdown",
   "metadata": {},
   "source": [
    "- 문서 A와 B가 동일한 주제의 문서, 문서 C는 다른 주제의 문서라고 가정\n",
    "\n",
    "- 문서 A와 C의 문서의 길이는 거의 차이가 나지 않지만, 문서 B의 경우 문서 A의 길이보다 두 배의 길이를 가짐\n",
    "\n",
    "- 이 때 유클리디안 거리로 유사도를 연산하면 문서 A가 문서 B보다 문서 C의 유사도가 더 높게 나오는 상황이 발생할 수 있음\n",
    "\n",
    "- 이 때 코사인 유사도는 방향에 초점을 두므로 문서의 길이가 다른 상황에서 비교적 공정한 유사도를 구할 수 있음"
   ]
  },
  {
   "cell_type": "markdown",
   "metadata": {},
   "source": [
    "### 2. 여러가지 유사도 기법"
   ]
  },
  {
   "cell_type": "markdown",
   "metadata": {},
   "source": [
    "##### 2-1. 유클리드 거리(Euclidean distance)\n",
    "\n",
    "- 유클리드 거리는 문서의 유사도를 구할 때 자카드 유사도나 코사인 유사도만큼 유용한 방법은 아님\n",
    "\n",
    "- l_2 norm"
   ]
  },
  {
   "cell_type": "markdown",
   "metadata": {},
   "source": [
    "##### 2-2. 자카드 유사도(Jaccard similarity)\n",
    "\n",
    "- 합집합에서 교집합의 비율을 구한다면 두 집합 A와 B의 유사도를 구할 수 있다는 아이디어\n",
    "\n",
    "<math xmlns=\"http://www.w3.org/1998/Math/MathML\" display=\"block\">\n",
    "  <mi>J</mi>\n",
    "  <mo stretchy=\"false\">(</mo>\n",
    "  <mi>A</mi>\n",
    "  <mo>,</mo>\n",
    "  <mi>B</mi>\n",
    "  <mo stretchy=\"false\">)</mo>\n",
    "  <mo>=</mo>\n",
    "  <mfrac>\n",
    "    <mrow>\n",
    "      <mo data-mjx-texclass=\"ORD\" stretchy=\"false\">|</mo>\n",
    "      <mi>A</mi>\n",
    "      <mo>&#x2229;</mo>\n",
    "      <mi>B</mi>\n",
    "      <mo data-mjx-texclass=\"ORD\" stretchy=\"false\">|</mo>\n",
    "    </mrow>\n",
    "    <mrow>\n",
    "      <mo data-mjx-texclass=\"ORD\" stretchy=\"false\">|</mo>\n",
    "      <mi>A</mi>\n",
    "      <mo>&#x222A;</mo>\n",
    "      <mi>B</mi>\n",
    "      <mo data-mjx-texclass=\"ORD\" stretchy=\"false\">|</mo>\n",
    "    </mrow>\n",
    "  </mfrac>\n",
    "  <mo>=</mo>\n",
    "  <mfrac>\n",
    "    <mrow>\n",
    "      <mo data-mjx-texclass=\"ORD\" stretchy=\"false\">|</mo>\n",
    "      <mi>A</mi>\n",
    "      <mo>&#x2229;</mo>\n",
    "      <mi>B</mi>\n",
    "      <mo data-mjx-texclass=\"ORD\" stretchy=\"false\">|</mo>\n",
    "    </mrow>\n",
    "    <mrow>\n",
    "      <mo data-mjx-texclass=\"ORD\" stretchy=\"false\">|</mo>\n",
    "      <mi>A</mi>\n",
    "      <mo data-mjx-texclass=\"ORD\" stretchy=\"false\">|</mo>\n",
    "      <mo>+</mo>\n",
    "      <mo data-mjx-texclass=\"ORD\" stretchy=\"false\">|</mo>\n",
    "      <mi>B</mi>\n",
    "      <mo data-mjx-texclass=\"ORD\" stretchy=\"false\">|</mo>\n",
    "      <mo>&#x2212;</mo>\n",
    "      <mo data-mjx-texclass=\"ORD\" stretchy=\"false\">|</mo>\n",
    "      <mi>A</mi>\n",
    "      <mo>&#x2229;</mo>\n",
    "      <mi>B</mi>\n",
    "      <mo data-mjx-texclass=\"ORD\" stretchy=\"false\">|</mo>\n",
    "    </mrow>\n",
    "  </mfrac>\n",
    "</math>"
   ]
  }
 ],
 "metadata": {
  "kernelspec": {
   "display_name": "LikeLion",
   "language": "python",
   "name": "python3"
  },
  "language_info": {
   "codemirror_mode": {
    "name": "ipython",
    "version": 3
   },
   "file_extension": ".py",
   "mimetype": "text/x-python",
   "name": "python",
   "nbconvert_exporter": "python",
   "pygments_lexer": "ipython3",
   "version": "3.11.5"
  }
 },
 "nbformat": 4,
 "nbformat_minor": 2
}
