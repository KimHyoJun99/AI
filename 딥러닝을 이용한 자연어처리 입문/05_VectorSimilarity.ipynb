{
 "cells": [
  {
   "cell_type": "markdown",
   "metadata": {},
   "source": [
    "# Vector Similarity"
   ]
  },
  {
   "cell_type": "markdown",
   "metadata": {},
   "source": [
    "### 1. 코사인 유사도(Cosine Similarity)\n",
    "\n",
    "- BoW에 기반한 단어 표현 방법인 DTM, TF-IDF 또는 Word2Vec 등으로 단어를 수치화 했다면\n",
    "\n",
    "- 이러한 수치화에 대해 코사인 유사도를 적용하여 문서의 유사도를 구하는 게 가능함"
   ]
  },
  {
   "cell_type": "markdown",
   "metadata": {},
   "source": [
    "##### 1-1. 코사인 유사도"
   ]
  }
 ],
 "metadata": {
  "language_info": {
   "name": "python"
  }
 },
 "nbformat": 4,
 "nbformat_minor": 2
}
