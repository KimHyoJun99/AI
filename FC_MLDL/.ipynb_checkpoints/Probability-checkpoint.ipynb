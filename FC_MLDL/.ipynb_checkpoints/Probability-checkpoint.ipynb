{
 "cells": [
  {
   "cell_type": "markdown",
   "id": "ceab6e87",
   "metadata": {},
   "source": [
    "# Basic Probability"
   ]
  },
  {
   "cell_type": "markdown",
   "id": "42a1cc46",
   "metadata": {},
   "source": [
    "### Permutation"
   ]
  },
  {
   "cell_type": "code",
   "execution_count": 2,
   "id": "1e98826b",
   "metadata": {},
   "outputs": [],
   "source": [
    "from itertools import permutations"
   ]
  },
  {
   "cell_type": "code",
   "execution_count": 12,
   "id": "f37c3520",
   "metadata": {},
   "outputs": [
    {
     "name": "stdout",
     "output_type": "stream",
     "text": [
      "<itertools.permutations object at 0x0000022AFF250810>\n",
      "[(2, 3), (2, 4), (3, 2), (3, 4), (4, 2), (4, 3)]\n"
     ]
    }
   ],
   "source": [
    "# ML 모델 학습을 위해 N개의 데이터를 넣을 때\n",
    "# epoch마다 학습 데이터를 넣을 순서를 섞어서(shuffling) 진행\n",
    "\n",
    "arr = [2, 3, 4]\n",
    "\n",
    "print(permutations(arr, 2))\n",
    "\n",
    "result = list(permutations(arr, 2))\n",
    "print(result)\n",
    "\n",
    "# import itertools\n",
    "# list(itertools.permutations(arr, 2))"
   ]
  },
  {
   "cell_type": "markdown",
   "id": "1390fe7e",
   "metadata": {},
   "source": [
    "### Combination"
   ]
  },
  {
   "cell_type": "code",
   "execution_count": 14,
   "id": "fa990fc2",
   "metadata": {},
   "outputs": [
    {
     "name": "stdout",
     "output_type": "stream",
     "text": [
      "<itertools.combinations object at 0x0000022AFF250180>\n",
      "[(2, 3), (2, 4), (3, 4)]\n"
     ]
    }
   ],
   "source": [
    "# 예시 : 샴 네트워크(siamese network)\n",
    "# 두 개의 이미지가 유사하면 1 아니면 0 출력\n",
    "# N개의 데이터가 있다면 매번 2개의 이미지를 뽑아서 입력으로 넣는다,\n",
    "\n",
    "from itertools import combinations\n",
    "\n",
    "print(combinations(arr, 2))\n",
    "\n",
    "result = list(combinations(arr, 2))\n",
    "print(result)"
   ]
  },
  {
   "cell_type": "markdown",
   "id": "71a28e36",
   "metadata": {},
   "source": [
    "### Permutation with Repetiton"
   ]
  },
  {
   "cell_type": "code",
   "execution_count": 20,
   "id": "217c27a5",
   "metadata": {},
   "outputs": [
    {
     "name": "stdout",
     "output_type": "stream",
     "text": [
      "<itertools.product object at 0x0000022AFF2129C0>\n",
      "[(2, 2), (2, 3), (2, 4), (3, 2), (3, 3), (3, 4), (4, 2), (4, 3), (4, 4)]\n"
     ]
    }
   ],
   "source": [
    "from itertools import product\n",
    "\n",
    "print(product(arr, repeat=2))\n",
    "\n",
    "result = list(product(arr, repeat=2))\n",
    "print(result)"
   ]
  },
  {
   "cell_type": "markdown",
   "id": "bf43fde1",
   "metadata": {},
   "source": [
    "### Combination with Repetiton"
   ]
  },
  {
   "cell_type": "code",
   "execution_count": 24,
   "id": "c3ee0be3",
   "metadata": {},
   "outputs": [
    {
     "name": "stdout",
     "output_type": "stream",
     "text": [
      "<itertools.combinations_with_replacement object at 0x0000022AFF329030>\n",
      "[(2, 2), (2, 3), (2, 4), (3, 3), (3, 4), (4, 4)]\n"
     ]
    }
   ],
   "source": [
    "# 딥러닝에서 학습된 여러 모델의 결과를 활용하여 최종적인 결과를 생성하는\n",
    "# 앙상블(ensemble) 방법\n",
    "# 서로 다른 딥러닝 아키텍처에서 중복을 허용하여 딥러닝 모델을 학습\n",
    "# 순서는 중요하지 않음\n",
    "\n",
    "from itertools import combinations_with_replacement\n",
    "\n",
    "print(combinations_with_replacement(arr, 2))\n",
    "\n",
    "result = list(combinations_with_replacement(arr, 2))\n",
    "print(result)"
   ]
  },
  {
   "cell_type": "markdown",
   "id": "59b912b7",
   "metadata": {},
   "source": [
    "### 확률 변수와 확률 분포"
   ]
  },
  {
   "cell_type": "markdown",
   "id": "097f24ef",
   "metadata": {},
   "source": [
    "##### **확률 변수**\n",
    "- 시행(trial)에 의해서 나오는 결과가 사건(event)\n",
    "- **확률 변수**란, 사건으로 인해 그 값이 확률적으로 정해지는 변수\n",
    "- **확률 변수**는 대문자 X, **확률 변수**가 취할 수 있는 값은 소문자 x\n",
    "- **확률 변수**가 취할 수 있는 모든 x의 집합을 상태 공간(state space)\n",
    "- **확률 함수**란, 확률 변수에 따라서 확률 값을 부여하는 함수 P\n",
    "- 주사위 두 개 던지기 P(X=3) = 1/36\n",
    "\n",
    "\n",
    "- **딥러닝 분야에서의 사건**\n",
    "- 데이터는 사건으로 이해\n",
    "\n",
    "##### **확률 분포**\n",
    "- 확률 분포 함수의 대표적인 것으로는 *1. 확률 질량 함수*, 2. *확률 밀도 함수*  \n",
    "\n",
    "\n",
    "- **이산 확률 분포** : 확률변수 X의 값을 셀 수 있는 경우\n",
    "- **확률 질량 함수** : 이산 확률 변수가 특정한 값을 가질 확률 출력 함수  \n",
    "\n",
    "\n",
    "- 딥러닝의 분류(classification) 모델의 출력은 확률 분포에 해당\n",
    "- 이미지 x가 주어졌을 때 클래스 y의 확률은 **P(y|x)**\n",
    "- X의 값에 따라 Y의 확률 분포가 변경되므로 **조건부 확률**\n",
    "- 코끼리의 이미지 x가 주어진 경우\n",
    "- P(Y=새|X=x) = 0.06, P(Y=코끼리|X=x) = 0.87, P(Y=벌|X=x) = 0.07  \n",
    "\n",
    "\n",
    "- **연속 확률 변수** : 확률변수 X의 값이 무한한 경우\n",
    "- **확률 밀도 함수** : 연속 확률 변수가 주어진 구간 내에 포함될 확률 출력"
   ]
  },
  {
   "cell_type": "code",
   "execution_count": null,
   "id": "8075e3b3",
   "metadata": {},
   "outputs": [],
   "source": []
  }
 ],
 "metadata": {
  "kernelspec": {
   "display_name": "Python 3 (ipykernel)",
   "language": "python",
   "name": "python3"
  },
  "language_info": {
   "codemirror_mode": {
    "name": "ipython",
    "version": 3
   },
   "file_extension": ".py",
   "mimetype": "text/x-python",
   "name": "python",
   "nbconvert_exporter": "python",
   "pygments_lexer": "ipython3",
   "version": "3.11.4"
  }
 },
 "nbformat": 4,
 "nbformat_minor": 5
}
